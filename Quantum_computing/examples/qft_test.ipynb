{
 "cells": [
  {
   "cell_type": "code",
   "execution_count": 31,
   "id": "75f7cd60",
   "metadata": {},
   "outputs": [],
   "source": [
    "import sys\n",
    "sys.path.append('/Users/denis/Desktop/VS code projects/QUANTUM_TOOLS/Quantum_computing/src')\n",
    "from Quantum_circuit import My_quantum_circuit, tensordot,  array\n",
    "from Gates import Gates as gate\n",
    "from numpy import around"
   ]
  },
  {
   "cell_type": "code",
   "execution_count": 9,
   "id": "56448b18",
   "metadata": {},
   "outputs": [
    {
     "name": "stdout",
     "output_type": "stream",
     "text": [
      "True\n",
      "True\n"
     ]
    }
   ],
   "source": [
    "N = 7\n",
    "circuit_1 = My_quantum_circuit(N)\n",
    "circuit_1.apply_QFT(list_index_qubits=list(range(N)))\n",
    "start_state = circuit_1.start_state\n",
    "finish_state = circuit_1.state.reshape(-1)\n",
    "teor_state = gate.QFT_matrix(N) @ start_state\n",
    "\n",
    "print(all(around(teor_state, 5) == around(finish_state,5)))\n",
    "\n",
    "circuit_1.apply_reverse_QFT(list_index_qubits=list(range(N)))\n",
    "finish_state_2 = circuit_1.state.reshape(-1)\n",
    "\n",
    "print(all(around(finish_state_2, 10) == around(start_state,10)))"
   ]
  },
  {
   "cell_type": "code",
   "execution_count": 45,
   "id": "fab84f95",
   "metadata": {},
   "outputs": [
    {
     "data": {
      "text/plain": [
       "np.complex128(0.9999999999999998+0j)"
      ]
     },
     "execution_count": 45,
     "metadata": {},
     "output_type": "execute_result"
    }
   ],
   "source": [
    "len((gate.hadamar @ array([[1], [0]])).shape)\n",
    "state = gate.hadamar @ array([1, 0])\n",
    "state @ state.conjugate()\n",
    "# size_1"
   ]
  },
  {
   "cell_type": "code",
   "execution_count": 28,
   "id": "f9b12fbe",
   "metadata": {},
   "outputs": [
    {
     "name": "stdout",
     "output_type": "stream",
     "text": [
      "True\n",
      "True\n"
     ]
    }
   ],
   "source": [
    "N = 8\n",
    "circuit_1 = My_quantum_circuit(N)\n",
    "circuit_1.apply_1q(list_index=list(range(N)),  gate=gate.hadamar)\n",
    "circuit_1.apply_1q(list_index=[0, 2, 5],  gate=gate.x_gate(1))\n",
    "start_state = circuit_1.state.reshape(-1)\n",
    "teor_state = circuit_1.state\n",
    "circuit_1.apply_QFT(list_index_qubits=list(range(N)))\n",
    "finish_state = circuit_1.state.reshape(-1)\n",
    "teor_state = gate.QFT_matrix(N) @ teor_state.reshape(-1)\n",
    "\n",
    "print(all(around(teor_state, 10) == around(finish_state,10)))\n",
    "\n",
    "circuit_1.apply_reverse_QFT(list_index_qubits=list(range(N)))\n",
    "finish_state_2 = circuit_1.state.reshape(-1)\n",
    "\n",
    "print(all(around(finish_state_2, 10) == around(start_state,10)))"
   ]
  },
  {
   "cell_type": "code",
   "execution_count": null,
   "id": "8260fd4a",
   "metadata": {},
   "outputs": [],
   "source": []
  }
 ],
 "metadata": {
  "kernelspec": {
   "display_name": "Python 3",
   "language": "python",
   "name": "python3"
  },
  "language_info": {
   "codemirror_mode": {
    "name": "ipython",
    "version": 3
   },
   "file_extension": ".py",
   "mimetype": "text/x-python",
   "name": "python",
   "nbconvert_exporter": "python",
   "pygments_lexer": "ipython3",
   "version": "3.13.3"
  }
 },
 "nbformat": 4,
 "nbformat_minor": 5
}
