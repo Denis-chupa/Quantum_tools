{
 "cells": [
  {
   "cell_type": "code",
   "execution_count": 1,
   "id": "89c79f41",
   "metadata": {},
   "outputs": [
    {
     "name": "stdout",
     "output_type": "stream",
     "text": [
      "(CVXPY) Aug 02 12:48:28 AM: Encountered unexpected exception importing solver MOSEK:\n",
      "AttributeError(\"module 'mosek' has no attribute 'conetype'\")\n"
     ]
    }
   ],
   "source": [
    "import sys\n",
    "# на уровень выше из research_rank/\n",
    "sys.path.insert(0, '..')\n",
    "from pathlib import Path\n",
    "import numpy as np\n",
    "import pandas as pd\n",
    "import json\n",
    "from collections import defaultdict\n",
    "from plot_json import convert_dictlist_to_matrix\n",
    "import matplotlib.pyplot as plt"
   ]
  },
  {
   "cell_type": "markdown",
   "id": "75011328",
   "metadata": {},
   "source": [
    "### Рассмотрим собственные значения $\\rho_{max}$ и $\\rho_{min}$ при взятии различных рангов при томографии на основе протокола Фёдорова"
   ]
  },
  {
   "cell_type": "markdown",
   "id": "d81830e6",
   "metadata": {},
   "source": [
    "Изучим ранг состояний ро_макс и ро_мин. Для начала рассмотрим это для протокола Фёдорова. Рассмотрим 500 различных квантовых состояний с разными рангами с точностью $\\epsilon = 10^{-6}$"
   ]
  },
  {
   "cell_type": "markdown",
   "id": "5093e2a6",
   "metadata": {},
   "source": [
    "Для томографии состояния с рангом 1 создадим таблицу df_r_1"
   ]
  },
  {
   "cell_type": "code",
   "execution_count": null,
   "id": "79ed4a5e",
   "metadata": {},
   "outputs": [
    {
     "name": "stderr",
     "output_type": "stream",
     "text": [
      " 38%|███▊      | 190/500 [05:16<01:49,  2.82it/s]  /Library/Frameworks/Python.framework/Versions/3.13/lib/python3.13/site-packages/cvxpy/problems/problem.py:1504: UserWarning: Solution may be inaccurate. Try another solver, adjusting the solver settings, or solve with verbose=True for more information.\n",
      "  warnings.warn(\n",
      "100%|██████████| 500/500 [15:00<00:00,  1.80s/it]  \n"
     ]
    }
   ],
   "source": [
    "from Qutrit import*\n",
    "from Adaptive_compresive_cending_qutrit import*\n",
    "\n",
    "tomography_1 = ACT(protocol, 1, 3)\n",
    "\n",
    "N = 500\n",
    "svx_list = []         \n",
    "rho_max_list = [0] * N\n",
    "rho_min_list = [0] * N\n",
    "\n",
    "# СЗ - собственное значение, И - измерение (количество используемых элементов протокола)\n",
    "fed_r1 = {\n",
    "    \"СЗ 1, И 1\": [],\n",
    "    \"СЗ 2, И 1\": [],\n",
    "    \"СЗ 3, И 1\": []\n",
    "}\n",
    "\n",
    "\n",
    "# Создание DataFrame\n",
    "df_r_1 = pd.DataFrame(fed_r1)\n",
    "df_r_1[\"\"] = np.nan\n",
    "df_r_1[\"СЗ 1, И 2\"] = []\n",
    "df_r_1[\"СЗ 2, И 2\"] = []\n",
    "df_r_1[\"СЗ 3, И 2\"] = []\n",
    "df_r_1[\" \"] = np.nan\n",
    "df_r_1[\"СЗ 1, И 3\"] = []\n",
    "df_r_1[\"СЗ 2, И 3\"] = []\n",
    "df_r_1[\"СЗ 3, И 3\"] = []\n",
    "\n",
    "for i in tqdm(range(N)):\n",
    "    svx_list_one_measurement, fidelity_list_one_measurement, fidelity_x_min, fidelity_x_max,\\\n",
    "        x_min_list, x_max_list, state_ml = tomography_1.main(rank_psevdoin=1, epsilon_ml=10*-11, epsilon_act=10**-6,\\\n",
    "                                                         max_iters_in_semidefinite_program=10**8)\n",
    "    for ind_min in range(len(x_min_list)):\n",
    "        x_min_list[ind_min] = np.array([[complex(item) for item in row] for row in x_min_list[ind_min]])\n",
    "    for ind_max in range(len(x_max_list)):\n",
    "        x_max_list[ind_max] = np.array([[complex(item) for item in row] for row in x_max_list[ind_max]])\n",
    "        eigenvalues, eigenvectors = np.linalg.eig(x_max_list[ind_max])\n",
    "        match ind_max:\n",
    "            case 0:\n",
    "                df_r_1.loc[len(df_r_1), [\"СЗ 1, И 1\", \"СЗ 2, И 1\", \"СЗ 3, И 1\"]] = (np.round(np.sort(np.real(eigenvalues)), 5)[::-1])\n",
    "            case 1:\n",
    "                df_r_1.loc[len(df_r_1)-1, [\"СЗ 1, И 2\", \"СЗ 2, И 2\", \"СЗ 3, И 2\"]] = (np.round(np.sort(np.real(eigenvalues)), 5)[::-1])\n",
    "            case 2:\n",
    "                df_r_1.loc[len(df_r_1)-1, [\"СЗ 1, И 3\", \"СЗ 2, И 3\", \"СЗ 3, И 3\"]] = (np.round(np.sort(np.real(eigenvalues)), 5)[::-1])\n"
   ]
  },
  {
   "cell_type": "markdown",
   "id": "4605e4a4",
   "metadata": {},
   "source": [
    "Для томографии состояния с рангом 3 создадим таблицу df_r_3"
   ]
  },
  {
   "cell_type": "code",
   "execution_count": null,
   "id": "4118ba5e",
   "metadata": {},
   "outputs": [
    {
     "name": "stderr",
     "output_type": "stream",
     "text": [
      "100%|██████████| 500/500 [02:42<00:00,  3.07it/s]\n"
     ]
    }
   ],
   "source": [
    "protocol = [Gl_2(pi / 8) @ Gl_8(0), Gl_2(pi / 8), np.diag((1,1,1))]\n",
    "tomography = ACT(protocol, 1, 3)\n",
    "x = np.array([1, 2, 3])\n",
    "N = 500\n",
    "svx_list = []         \n",
    "rho_max_list = [0] * N\n",
    "rho_min_list = [0] * N\n",
    "\n",
    "\n",
    "fed_r3 = {\n",
    "    \"СЗ 1, И 1\": [],\n",
    "    \"СЗ 2, И 1\": [],\n",
    "    \"СЗ 3, И 1\": []\n",
    "}\n",
    "\n",
    "# Создание DataFrame\n",
    "df_r_3 = pd.DataFrame(fed_r3)\n",
    "df_r_3[\"\"] = np.nan\n",
    "df_r_3[\"СЗ 1, И 2\"] = []\n",
    "df_r_3[\"СЗ 2, И 2\"] = []\n",
    "df_r_3[\"СЗ 3, И 2\"] = []\n",
    "df_r_3[\" \"] = np.nan\n",
    "df_r_3[\"СЗ 1, И 3\"] = []\n",
    "df_r_3[\"СЗ 2, И 3\"] = []\n",
    "df_r_3[\"СЗ 3, И 3\"] = []\n",
    "\n",
    "for i in tqdm(range(N)):\n",
    "    svx_list_one_measurement, fidelity_list_one_measurement, fidelity_x_min, fidelity_x_max,\\\n",
    "    x_min_list, x_max_list, state_ml = tomography.main(rank_psevdoin=3, epsilon_ml=10*-11, epsilon_act=10**-6,\\\n",
    "                                                       max_iters_in_semidefinite_program=10**8)\n",
    "    for ind_min in range(len(x_min_list)):\n",
    "        x_min_list[ind_min] = np.array([[complex(item) for item in row] for row in x_min_list[ind_min]])\n",
    "    for ind_max in range(len(x_max_list)):\n",
    "        x_max_list[ind_max] = np.array([[complex(item) for item in row] for row in x_max_list[ind_max]])\n",
    "        eigenvalues, eigenvectors = np.linalg.eig(x_max_list[ind_max])\n",
    "        match ind_max:\n",
    "            case 0:\n",
    "                df_r_3.loc[len(df_r_3), [\"СЗ 1, И 1\", \"СЗ 2, И 1\", \"СЗ 3, И 1\"]] = (np.round(np.sort(np.real(eigenvalues)), 5)[::-1])\n",
    "            case 1:\n",
    "                df_r_3.loc[len(df_r_3)-1, [\"СЗ 1, И 2\", \"СЗ 2, И 2\", \"СЗ 3, И 2\"]] = (np.round(np.sort(np.real(eigenvalues)), 5)[::-1])\n",
    "            case 2:\n",
    "                df_r_3.loc[len(df_r_3)-1, [\"СЗ 1, И 3\", \"СЗ 2, И 3\", \"СЗ 3, И 3\"]] = (np.round(np.sort(np.real(eigenvalues)), 5)[::-1])\n"
   ]
  },
  {
   "cell_type": "markdown",
   "id": "148f11fe",
   "metadata": {},
   "source": [
    "Объединяем их в одну таблицу exel под названием fed_eigenval_r_or_n"
   ]
  },
  {
   "cell_type": "code",
   "execution_count": null,
   "id": "de15e0a1",
   "metadata": {},
   "outputs": [],
   "source": [
    "# # Создаем пустые столбцы (3 штуки)\n",
    "# empty_cols = pd.DataFrame(np.nan, index=df_r_1.index, columns=['   ', '    ', '  '])\n",
    "\n",
    "# # Объединяем таблицы с пустыми столбцами между ними\n",
    "# result = pd.concat([df_r_1, empty_cols, df_r_3], axis=1)\n",
    "\n",
    "# # Запись в Excel\n",
    "# result.to_excel(\"exel_file/fed_eigenval_r_or_n.xlsx\", index=False, startrow=2)"
   ]
  },
  {
   "cell_type": "markdown",
   "id": "791e41f6",
   "metadata": {},
   "source": [
    "#### Строим графики с этими собственными значениями"
   ]
  },
  {
   "cell_type": "markdown",
   "id": "3d2112b3",
   "metadata": {},
   "source": [
    "Для ранга 1"
   ]
  },
  {
   "cell_type": "code",
   "execution_count": 7,
   "id": "da6a163c",
   "metadata": {},
   "outputs": [
    {
     "data": {
      "image/png": "[encoded data removed]",
      "text/plain": [
       "<Figure size 1500x500 with 3 Axes>"
      ]
     },
     "metadata": {},
     "output_type": "display_data"
    }
   ],
   "source": [
    "# Группируем колонки по измерениям (столбцы)\n",
    "column_groups = [\n",
    "    [\"СЗ 1, И 1\", \"СЗ 2, И 1\", \"СЗ 3, И 1\"],  # Измерение 1\n",
    "    [\"СЗ 1, И 2\", \"СЗ 2, И 2\", \"СЗ 3, И 2\"],  # Измерение 2\n",
    "    [\"СЗ 1, И 3\", \"СЗ 2, И 3\", \"СЗ 3, И 3\"]   # Измерение 3\n",
    "]\n",
    "\n",
    "col_labels = [\"СЗ 1\", \"СЗ 2\", \"СЗ 3\"]\n",
    "row_labels = [\"Измерение 1\", \"Измерение 2\", \"Измерение 3\"]\n",
    "\n",
    "fig, axes = plt.subplots(1, 3, figsize=(15, 5))\n",
    "\n",
    "for i in range(2,3):      # по измерениям (строки)\n",
    "    for j in range(3):  # по СЗ (столбцы)\n",
    "        ax = axes[j]\n",
    "        col_name = column_groups[i][j]\n",
    "        data = df_r_1[col_name].dropna()\n",
    "\n",
    "        ax.boxplot(data, patch_artist=True, boxprops=dict(facecolor='lightblue'))\n",
    "        \n",
    "        # Заголовок для каждого графика — только название СЗ\n",
    "        ax.set_title(f\"Собственное значение {col_labels[j][3]}\", fontsize=14)\n",
    "        \n",
    "        # Для центрального графика в строке (j == 1) добавляем подпись с измерением\n",
    "        if j == 1:\n",
    "            ax.set_title(f\"{row_labels[i]}\\nСобственное значение {col_labels[j][3]}\", fontsize=14)\n",
    "            \n",
    "\n",
    "        if j == 0:\n",
    "            ax.set_ylim([0.7, 1.05])\n",
    "        else:\n",
    "            ax.set_ylim([-0.05, 0.4])\n",
    "\n",
    "\n",
    "        ax.grid(True)\n",
    "        ax.set_xticks([])\n",
    "\n",
    "\n",
    "# plt.tight_layout()\n",
    "plt.show()\n"
   ]
  },
  {
   "cell_type": "markdown",
   "id": "c7ac7f9d",
   "metadata": {},
   "source": [
    "Для ранга 3"
   ]
  },
  {
   "cell_type": "code",
   "execution_count": 8,
   "id": "149110dd",
   "metadata": {},
   "outputs": [
    {
     "data": {
      "image/png": "[encoded data removed]",
      "text/plain": [
       "<Figure size 1500x500 with 3 Axes>"
      ]
     },
     "metadata": {},
     "output_type": "display_data"
    }
   ],
   "source": [
    "# Группируем колонки по измерениям (столбцы)\n",
    "column_groups = [\n",
    "    [\"СЗ 1, И 1\", \"СЗ 2, И 1\", \"СЗ 3, И 1\"],  # Измерение 1\n",
    "    [\"СЗ 1, И 2\", \"СЗ 2, И 2\", \"СЗ 3, И 2\"],  # Измерение 2\n",
    "    [\"СЗ 1, И 3\", \"СЗ 2, И 3\", \"СЗ 3, И 3\"]   # Измерение 3\n",
    "]\n",
    "\n",
    "col_labels = [\"СЗ 1\", \"СЗ 2\", \"СЗ 3\"]\n",
    "row_labels = [\"Измерение 1\", \"Измерение 2\", \"Измерение 3\"]\n",
    "\n",
    "fig, axes = plt.subplots(1, 3, figsize=(15, 5))\n",
    "\n",
    "for i in range(2, 3):      # по измерениям (строки)\n",
    "    for j in range(3):  # по СЗ (столбцы)\n",
    "        ax = axes[j]\n",
    "        col_name = column_groups[i][j]\n",
    "        data = df_r_3[col_name].dropna()\n",
    "\n",
    "        ax.boxplot(data, patch_artist=True, boxprops=dict(facecolor='lightblue'))\n",
    "\n",
    "        # Заголовок для каждого графика — только название СЗ\n",
    "        ax.set_title(f\"Собственное значение {col_labels[j][3]}\", fontsize=14)\n",
    "        # Для центрального графика в строке (j == 1) добавляем подпись с измерением\n",
    "        if j == 1:\n",
    "            ax.set_title(f\"{row_labels[i]}\\n\\nСобственное значение {col_labels[j][3]}\", fontsize=14)\n",
    "            \n",
    "\n",
    "        if j == 0:\n",
    "            ax.set_ylim([0.7, 1.05])\n",
    "        else:\n",
    "            ax.set_ylim([-0.05, 0.4])\n",
    "\n",
    "\n",
    "        ax.grid(True)\n",
    "        ax.set_xticks([])\n",
    "\n",
    "\n",
    "# plt.tight_layout()\n",
    "plt.show()"
   ]
  },
  {
   "cell_type": "markdown",
   "id": "8bddba75",
   "metadata": {},
   "source": [
    "### Рассмотрим собственные значения $\\rho_{max}$ и $\\rho_{min}$ на основе протокола с пластинкой $\\frac{\\lambda}{4}$"
   ]
  },
  {
   "cell_type": "markdown",
   "id": "547d47e0",
   "metadata": {},
   "source": [
    "Изучим ранг состояний ро_макс и ро_мин. Для начала рассмотрим это для протокола Фёдорова. Рассмотрим 500 различных квантовых состояний с разными рангами с точностью $\\epsilon = 10^{-6}$"
   ]
  },
  {
   "cell_type": "markdown",
   "id": "22a83ddc",
   "metadata": {},
   "source": [
    "Для томографии состояния с рангом 1 создадим таблицу df_start_protocol_r_1"
   ]
  },
  {
   "cell_type": "code",
   "execution_count": null,
   "id": "43ed076f",
   "metadata": {},
   "outputs": [
    {
     "name": "stderr",
     "output_type": "stream",
     "text": [
      " 63%|██████▎   | 316/500 [03:37<00:50,  3.64it/s] /Library/Frameworks/Python.framework/Versions/3.13/lib/python3.13/site-packages/cvxpy/problems/problem.py:1504: UserWarning: Solution may be inaccurate. Try another solver, adjusting the solver settings, or solve with verbose=True for more information.\n",
      "  warnings.warn(\n",
      " 99%|█████████▊| 493/500 [1:52:54<00:01,  3.97it/s]    "
     ]
    }
   ],
   "source": [
    "from Qutrit import*\n",
    "from Adaptive_compresive_cending_qutrit import*\n",
    "\n",
    "protocol = [Gl_2(pi / 8) @ Gl_8(0), Gl_2(pi / 8), np.diag((1,1,1))]\n",
    "rank = 1\n",
    "tomography_1 = ACT(protocol, rank, 3)\n",
    "\n",
    "N = 500\n",
    "svx_list = []         \n",
    "rho_max_list = [0] * N\n",
    "rho_min_list = [0] * N\n",
    "\n",
    "# СЗ - собственное значение, И - измерение (количество используемых элементов протокола)\n",
    "fed_r1 = {\n",
    "    \"СЗ 1, И 1\": [],\n",
    "    \"СЗ 2, И 1\": [],\n",
    "    \"СЗ 3, И 1\": []\n",
    "}\n",
    "\n",
    "\n",
    "# Создание DataFrame\n",
    "df_start_protocol_r_1 = pd.DataFrame(fed_r1)\n",
    "df_start_protocol_r_1[\"\"] = np.nan\n",
    "df_start_protocol_r_1[\"СЗ 1, И 2\"] = []\n",
    "df_start_protocol_r_1[\"СЗ 2, И 2\"] = []\n",
    "df_start_protocol_r_1[\"СЗ 3, И 2\"] = []\n",
    "df_start_protocol_r_1[\" \"] = np.nan\n",
    "df_start_protocol_r_1[\"СЗ 1, И 3\"] = []\n",
    "df_start_protocol_r_1[\"СЗ 2, И 3\"] = []\n",
    "df_start_protocol_r_1[\"СЗ 3, И 3\"] = []\n",
    "df_start_protocol_r_1[\" \"] = np.nan\n",
    "df_start_protocol_r_1[\"СЗ 1, И 4\"] = []\n",
    "df_start_protocol_r_1[\"СЗ 2, И 4\"] = []\n",
    "df_start_protocol_r_1[\"СЗ 3, И 4\"] = []\n",
    "df_start_protocol_r_1[\" \"] = np.nan\n",
    "df_start_protocol_r_1[\"СЗ 1, И 5\"] = []\n",
    "df_start_protocol_r_1[\"СЗ 2, И 5\"] = []\n",
    "df_start_protocol_r_1[\"СЗ 3, И 5\"] = []\n",
    "\n",
    "for i in tqdm(range(N)):\n",
    "    svx_list_one_measurement, fidelity_list_one_measurement, fidelity_x_min, fidelity_x_max,\\\n",
    "        x_min_list, x_max_list, state_ml = tomography_1.main(rank_psevdoin=rank, epsilon_ml=10*-11, epsilon_act=10**-6,\\\n",
    "                                                         max_iters_in_semidefinite_program=10**8)\n",
    "    for ind_min in range(len(x_min_list)):\n",
    "        x_min_list[ind_min] = np.array([[complex(item) for item in row] for row in x_min_list[ind_min]])\n",
    "    for ind_max in range(len(x_max_list)):\n",
    "        x_max_list[ind_max] = np.array([[complex(item) for item in row] for row in x_max_list[ind_max]])\n",
    "        eigenvalues, eigenvectors = np.linalg.eig(x_max_list[ind_max])\n",
    "        match ind_max:\n",
    "            case 0:\n",
    "                df_start_protocol_r_1.loc[len(df_start_protocol_r_1), [\"СЗ 1, И 1\", \"СЗ 2, И 1\", \"СЗ 3, И 1\"]] = (np.round(np.sort(np.real(eigenvalues)), 5)[::-1])\n",
    "            case 1:\n",
    "                df_start_protocol_r_1.loc[len(df_start_protocol_r_1)-1, [\"СЗ 1, И 2\", \"СЗ 2, И 2\", \"СЗ 3, И 2\"]] = (np.round(np.sort(np.real(eigenvalues)), 5)[::-1])\n",
    "            case 2:\n",
    "                df_start_protocol_r_1.loc[len(df_start_protocol_r_1)-1, [\"СЗ 1, И 3\", \"СЗ 2, И 3\", \"СЗ 3, И 3\"]] = (np.round(np.sort(np.real(eigenvalues)), 5)[::-1])\n",
    "            case 3:\n",
    "                df_start_protocol_r_1.loc[len(df_start_protocol_r_1)-1, [\"СЗ 1, И 3\", \"СЗ 2, И 3\", \"СЗ 3, И 3\"]] = (np.round(np.sort(np.real(eigenvalues)), 5)[::-1])\n",
    "            case 4:\n",
    "                df_start_protocol_r_1.loc[len(df_start_protocol_r_1)-1, [\"СЗ 1, И 3\", \"СЗ 2, И 3\", \"СЗ 3, И 3\"]] = (np.round(np.sort(np.real(eigenvalues)), 5)[::-1])"
   ]
  },
  {
   "cell_type": "markdown",
   "id": "4b60d35c",
   "metadata": {},
   "source": [
    "Для томографии состояния с рангом 1 создадим таблицу df_start_protocol_r_2"
   ]
  },
  {
   "cell_type": "code",
   "execution_count": null,
   "id": "b64e8b54",
   "metadata": {},
   "outputs": [],
   "source": []
  }
 ],
 "metadata": {
  "kernelspec": {
   "display_name": "Python 3",
   "language": "python",
   "name": "python3"
  },
  "language_info": {
   "codemirror_mode": {
    "name": "ipython",
    "version": 3
   },
   "file_extension": ".py",
   "mimetype": "text/x-python",
   "name": "python",
   "nbconvert_exporter": "python",
   "pygments_lexer": "ipython3",
   "version": "3.13.3"
  }
 },
 "nbformat": 4,
 "nbformat_minor": 5
}
