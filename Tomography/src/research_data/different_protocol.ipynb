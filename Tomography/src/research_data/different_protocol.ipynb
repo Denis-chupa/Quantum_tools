{
 "cells": [
  {
   "cell_type": "code",
   "execution_count": 1,
   "id": "bd37e749",
   "metadata": {},
   "outputs": [
    {
     "name": "stdout",
     "output_type": "stream",
     "text": [
      "(CVXPY) Aug 02 11:40:10 AM: Encountered unexpected exception importing solver MOSEK:\n",
      "AttributeError(\"module 'mosek' has no attribute 'conetype'\")\n"
     ]
    }
   ],
   "source": [
    "import sys\n",
    "# на уровень выше из research_rank/\n",
    "sys.path.insert(0, '..')\n",
    "from pathlib import Path\n",
    "import numpy as np\n",
    "import pandas as pd\n",
    "import json\n",
    "from collections import defaultdict\n",
    "from plot_json import convert_dictlist_to_matrix\n",
    "import matplotlib.pyplot as plt"
   ]
  },
  {
   "cell_type": "markdown",
   "id": "d085cc68",
   "metadata": {},
   "source": [
    "Рассмотрим различные протоколы. Начнём с протокола с $\\frac{\\lambda}{4}$ с $\\epsilon = 10^{-3}$ и $\\epsilon = 10^{-6}$"
   ]
  },
  {
   "cell_type": "code",
   "execution_count": null,
   "id": "2c8f59ea",
   "metadata": {},
   "outputs": [],
   "source": [
    "from Qutrit import*\n",
    "from Adaptive_compresive_cending_qutrit import*\n",
    "plt.rcParams.update({\n",
    "    'font.size': 16,               # Размер шрифта по умолчанию\n",
    "    'axes.titlesize': 16,          # Размер заголовка\n",
    "    'axes.labelsize': 16,          # Размер подписей осей\n",
    "    'xtick.labelsize': 16,         # Размер цифр на оси X\n",
    "    'ytick.labelsize': 16,         # Размер цифр на оси Y\n",
    "    'legend.fontsize': 16          # Размер шрифта легенды\n",
    "})\n",
    "\n",
    "\n",
    "protocol = [Gl_4(0), Gl_4(pi / 8), Gl_4(3 * pi / 8), Gl_4(5 * pi / 8), Gl_4(7 * pi / 8)]\n",
    "tomography_1 = ACT(protocol, 1, 3)\n",
    "\n",
    "x = np.array([1, 2, 3])\n",
    "svx_list = []         \n",
    "fidelity_list = []\n",
    "N = 100\n",
    "\n",
    "\n",
    "for i in tqdm(range(N)):\n",
    "    svx_list_one_measurement, fidelity_list_one_measurement, fidelity_x_min, fidelity_x_max,\\\n",
    "    x_min_list, x_max_list, state_ml = tomography_1.main(rank_psevdoin=1, epsilon_ml=10*-11, epsilon_act=10**-5,\\\n",
    "                                                         max_iters_in_semidefinite_program=10**5)\n",
    "    for ind_min in range(len(x_min_list)):\n",
    "        x_min_list[ind_min] = np.array([[complex(item) for item in row] for row in x_min_list[ind_min]])\n",
    "    for ind_max in range(len(x_max_list)):\n",
    "        x_max_list[ind_max] = np.array([[complex(item) for item in row] for row in x_max_list[ind_max]])\n",
    "    \n",
    "    fidelity_list_xmax_xmin = [tomography_1.Fidelity(x_min_list[0], x_max_list[0]), tomography_1.Fidelity(x_min_list[1], x_max_list[1]), tomography_1.Fidelity(x_min_list[2], x_max_list[2])]#, tomography_1.Fidelity(x_min_list[3], x_max_list[3])] \n",
    "    if svx_list_one_measurement is not np.inf :\n",
    "        svx_list.append(svx_list_one_measurement)\n",
    "        fidelity_list.append(np.abs(fidelity_list_xmax_xmin))\n",
    "\n",
    "y = np.mean(np.array(svx_list),axis = 0)\n",
    "std = np.std(np.array(svx_list),axis = 0)\n",
    "fidelity_mean = np.mean((fidelity_list), axis = 0)\n",
    "fidelity_std = np.std(np.array(fidelity_list),axis = 0)\n",
    "\n",
    "\n",
    "print(\"Mean fidelity:\", fidelity_mean , \"\\tStd fidelity:\", fidelity_std)\n",
    "print(\"Mean svx for protocol:\", y,\"\\tStd s_cvx for protocol:\", std)\n",
    "print()\n",
    "pl_fid_s_cvx(x, y, std, fidelity_mean, fidelity_std)"
   ]
  }
 ],
 "metadata": {
  "kernelspec": {
   "display_name": "Python 3",
   "language": "python",
   "name": "python3"
  },
  "language_info": {
   "codemirror_mode": {
    "name": "ipython",
    "version": 3
   },
   "file_extension": ".py",
   "mimetype": "text/x-python",
   "name": "python",
   "nbconvert_exporter": "python",
   "pygments_lexer": "ipython3",
   "version": "3.13.3"
  }
 },
 "nbformat": 4,
 "nbformat_minor": 5
}
